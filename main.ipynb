{
 "cells": [
  {
   "cell_type": "code",
   "execution_count": 1,
   "id": "5eb092c5",
   "metadata": {},
   "outputs": [],
   "source": [
    "import torch\n",
    "from prepare_data import create_or_load\n",
    "from collator import T2TDataCollator\n",
    "from transformers import AdamW, get_scheduler, Trainer, TrainingArguments, Adafactor\n",
    "from transformers import T5Tokenizer\n",
    "from model import T5PromptTuningLM\n",
    "from transformers.data.processors.squad import SquadV2Processor, squad_convert_examples_to_features"
   ]
  },
  {
   "cell_type": "code",
   "execution_count": 2,
   "id": "9739c7c2",
   "metadata": {},
   "outputs": [],
   "source": [
    "model_name = 't5-small'\n",
    "n_tokens = 10\n",
    "batch_size = 28\n",
    "\n",
    "tokenizer = T5Tokenizer.from_pretrained(model_name)\n",
    "train_dataset, valid_dataset = create_or_load(tokenizer)"
   ]
  },
  {
   "cell_type": "markdown",
   "id": "86536f27",
   "metadata": {},
   "source": [
    "# Run the below cells if you want to train"
   ]
  },
  {
   "cell_type": "code",
   "execution_count": 9,
   "id": "d89df355",
   "metadata": {},
   "outputs": [
    {
     "name": "stdout",
     "output_type": "stream",
     "text": [
      "Initializing soft prompt...\n"
     ]
    }
   ],
   "source": [
    "# if you want to train\n",
    "class Config:\n",
    "    # Prompt-tuning\n",
    "    n_prompt_tokens = 10\n",
    "    init_from_vocab = True\n",
    "    # random_range = 0.5\n",
    "args = Config()\n",
    "\n",
    "model = T5PromptTuningLM.from_pretrained(\n",
    "    model_name,\n",
    "    n_tokens=args.n_prompt_tokens,\n",
    "    initialize_from_vocab=args.init_from_vocab)"
   ]
  },
  {
   "cell_type": "code",
   "execution_count": 10,
   "id": "5763759b",
   "metadata": {},
   "outputs": [],
   "source": [
    "# Set up training arguments, optimizers, etc\n",
    "optimizer_grouped_parameters = [\n",
    "    {\n",
    "        \"params\": [p for n, p in model.named_parameters() if n == \"soft_prompt.weight\"],\n",
    "        \"lr\": 1e-2,\n",
    "        \"scale_parameter\": False,\n",
    "        \"relative_step\": False,\n",
    "    }\n",
    "]\n",
    "optimizer = Adafactor(optimizer_grouped_parameters)\n",
    "lr_scheduler = get_scheduler(\n",
    "    name='cosine',\n",
    "    num_warmup_steps=0,\n",
    "    optimizer=optimizer,\n",
    "    num_training_steps=3,\n",
    ")\n",
    "\n",
    "training_args = TrainingArguments(\n",
    "    output_dir='./results',          # output directory\n",
    "    per_device_train_batch_size=batch_size,  # batch size per device during training\n",
    "    per_device_eval_batch_size=batch_size*2,   # batch size for evaluation\n",
    "    logging_dir='./logs',            # directory for storing logs\n",
    "    logging_steps=100,\n",
    "    save_steps=3000,\n",
    "    report_to='tensorboard',\n",
    "    prediction_loss_only=True,\n",
    "    num_train_epochs=3,\n",
    ")"
   ]
  },
  {
   "cell_type": "code",
   "execution_count": 11,
   "id": "e72846f7",
   "metadata": {},
   "outputs": [],
   "source": [
    "# Initialize trainer\n",
    "trainer = Trainer(\n",
    "        model=model,\n",
    "        args=training_args,\n",
    "        train_dataset=train_dataset,\n",
    "        eval_dataset=valid_dataset,\n",
    "        data_collator=T2TDataCollator(),\n",
    "        optimizers=(optimizer, lr_scheduler),\n",
    "    )"
   ]
  },
  {
   "cell_type": "code",
   "execution_count": 47,
   "id": "96823320",
   "metadata": {},
   "outputs": [
    {
     "name": "stderr",
     "output_type": "stream",
     "text": [
      "***** Running training *****\n",
      "  Num examples = 87599\n",
      "  Num Epochs = 3\n",
      "  Instantaneous batch size per device = 28\n",
      "  Total train batch size (w. parallel, distributed & accumulation) = 28\n",
      "  Gradient Accumulation steps = 1\n",
      "  Total optimization steps = 9387\n"
     ]
    },
    {
     "data": {
      "text/html": [
       "\n",
       "    <div>\n",
       "      \n",
       "      <progress value='61' max='9387' style='width:300px; height:20px; vertical-align: middle;'></progress>\n",
       "      [  61/9387 00:27 < 1:12:37, 2.14 it/s, Epoch 0.02/3]\n",
       "    </div>\n",
       "    <table border=\"1\" class=\"dataframe\">\n",
       "  <thead>\n",
       "    <tr style=\"text-align: left;\">\n",
       "      <th>Step</th>\n",
       "      <th>Training Loss</th>\n",
       "    </tr>\n",
       "  </thead>\n",
       "  <tbody>\n",
       "  </tbody>\n",
       "</table><p>"
      ],
      "text/plain": [
       "<IPython.core.display.HTML object>"
      ]
     },
     "metadata": {},
     "output_type": "display_data"
    },
    {
     "ename": "KeyboardInterrupt",
     "evalue": "",
     "output_type": "error",
     "traceback": [
      "\u001b[0;31m---------------------------------------------------------------------------\u001b[0m",
      "\u001b[0;31mKeyboardInterrupt\u001b[0m                         Traceback (most recent call last)",
      "\u001b[0;32m/tmp/ipykernel_623/3197084684.py\u001b[0m in \u001b[0;36m<module>\u001b[0;34m\u001b[0m\n\u001b[1;32m      1\u001b[0m \u001b[0;31m# start training\u001b[0m\u001b[0;34m\u001b[0m\u001b[0;34m\u001b[0m\u001b[0;34m\u001b[0m\u001b[0m\n\u001b[0;32m----> 2\u001b[0;31m \u001b[0mtrainer\u001b[0m\u001b[0;34m.\u001b[0m\u001b[0mtrain\u001b[0m\u001b[0;34m(\u001b[0m\u001b[0;34m)\u001b[0m\u001b[0;34m\u001b[0m\u001b[0;34m\u001b[0m\u001b[0m\n\u001b[0m",
      "\u001b[0;32m~/.local/lib/python3.9/site-packages/transformers/trainer.py\u001b[0m in \u001b[0;36mtrain\u001b[0;34m(self, resume_from_checkpoint, trial, ignore_keys_for_eval, **kwargs)\u001b[0m\n\u001b[1;32m   1316\u001b[0m                     \u001b[0mtr_loss_step\u001b[0m \u001b[0;34m=\u001b[0m \u001b[0mself\u001b[0m\u001b[0;34m.\u001b[0m\u001b[0mtraining_step\u001b[0m\u001b[0;34m(\u001b[0m\u001b[0mmodel\u001b[0m\u001b[0;34m,\u001b[0m \u001b[0minputs\u001b[0m\u001b[0;34m)\u001b[0m\u001b[0;34m\u001b[0m\u001b[0;34m\u001b[0m\u001b[0m\n\u001b[1;32m   1317\u001b[0m \u001b[0;34m\u001b[0m\u001b[0m\n\u001b[0;32m-> 1318\u001b[0;31m                 if (\n\u001b[0m\u001b[1;32m   1319\u001b[0m                     \u001b[0margs\u001b[0m\u001b[0;34m.\u001b[0m\u001b[0mlogging_nan_inf_filter\u001b[0m\u001b[0;34m\u001b[0m\u001b[0;34m\u001b[0m\u001b[0m\n\u001b[1;32m   1320\u001b[0m                     \u001b[0;32mand\u001b[0m \u001b[0;32mnot\u001b[0m \u001b[0mis_torch_tpu_available\u001b[0m\u001b[0;34m(\u001b[0m\u001b[0;34m)\u001b[0m\u001b[0;34m\u001b[0m\u001b[0;34m\u001b[0m\u001b[0m\n",
      "\u001b[0;31mKeyboardInterrupt\u001b[0m: "
     ]
    }
   ],
   "source": [
    "# start training\n",
    "trainer.train()"
   ]
  },
  {
   "cell_type": "code",
   "execution_count": null,
   "id": "943d8757",
   "metadata": {},
   "outputs": [
    {
     "name": "stderr",
     "output_type": "stream",
     "text": [
      "***** Running Evaluation *****\n",
      "  Num examples = 10570\n",
      "  Batch size = 56\n"
     ]
    }
   ],
   "source": [
    "# start evaluate, save prompt\n",
    "trainer.evaluate()\n",
    "model.save_soft_prompt('soft_prompt', filename=f'soft_prompt_{model_name}_{n_tokens}.model')"
   ]
  },
  {
   "cell_type": "code",
   "execution_count": null,
   "id": "8d3e5976",
   "metadata": {},
   "outputs": [],
   "source": []
  },
  {
   "cell_type": "markdown",
   "id": "e4daa02e",
   "metadata": {},
   "source": [
    "# Run the below cells if you want to experiment"
   ]
  },
  {
   "cell_type": "code",
   "execution_count": 3,
   "id": "258ea2ca",
   "metadata": {},
   "outputs": [
    {
     "name": "stdout",
     "output_type": "stream",
     "text": [
      "Set soft prompt! (n_tokens: 10)\n"
     ]
    }
   ],
   "source": [
    "# load a new base model with trained soft prompt\n",
    "model = T5PromptTuningLM.from_pretrained(model_name, \n",
    "                                          return_dict=False, \n",
    "                                          soft_prompt_path=f'soft_prompt/soft_prompt_t5-small_10.model')"
   ]
  },
  {
   "cell_type": "code",
   "execution_count": null,
   "id": "36f96afc",
   "metadata": {},
   "outputs": [],
   "source": [
    "predictions = []\n",
    "ans = []\n",
    "for i in range(1000):\n",
    "    print('------------------------------------')\n",
    "    print(i)\n",
    "    question, context = valid_dataset['question'][i], valid_dataset['context'][i]\n",
    "    input_ids = tokenizer.encode('question: %s  context: %s' % (question, context), \n",
    "                             return_tensors='pt').to(model.device)\n",
    "    answers = valid_dataset['answers'][i]['text']\n",
    "    for i in range(len(answers)):\n",
    "        answers[i] = answers[i].lower().strip()\n",
    "    ans.append(answers)\n",
    "    print(f'context: {context}')\n",
    "    print()\n",
    "    print(f'question: {question}')\n",
    "    print()\n",
    "    print(f'answers: {answers}')\n",
    "    decoder_input_ids = torch.tensor([[tokenizer.encode(tokenizer.pad_token)[0]]]).to(input_ids.device)\n",
    "    for i in range(10):\n",
    "        idx = model(input_ids, decoder_input_ids=decoder_input_ids, return_dict=True).logits.argmax(-1)[0][-1]\n",
    "        decoder_input_ids=torch.cat((decoder_input_ids,torch.tensor([[idx]]).to(decoder_input_ids.device)), dim=1)\n",
    "    pred = ' '.join([tokenizer.decode(decoder_input_ids[0], skip_special_tokens=False)])\n",
    "    pred = pred.replace('</s>','').replace('<pad>','')\n",
    "#     print(f'indices: {indices}')\n",
    "    predictions.append(pred.lower().strip())\n",
    "    \n",
    "    print(f'model prediction: {pred.lower().strip()}')"
   ]
  },
  {
   "cell_type": "code",
   "execution_count": 9,
   "id": "d490128d",
   "metadata": {},
   "outputs": [],
   "source": [
    "import collections\n",
    "import re\n",
    "import string\n",
    "import numpy as np\n",
    "\n",
    "from absl import logging\n",
    "\n",
    "def _metric_max_over_ground_truths(metric_fn, ground_truths, prediction):\n",
    "    \"\"\"Computes the maximum of the metric over all ground truths.\"\"\"\n",
    "    return max(metric_fn(ground_truth, prediction) for ground_truth in ground_truths)\n",
    "\n",
    "\n",
    "def _exact_match_score(target, prediction):\n",
    "    return target == prediction\n",
    "\n",
    "def _f1_score(target, prediction):\n",
    "    \"\"\"Computes token f1 score for a single target and prediction.\"\"\"\n",
    "    prediction_tokens = prediction.split()\n",
    "    target_tokens = target.split()\n",
    "    common = (collections.Counter(prediction_tokens) & collections.Counter(target_tokens))\n",
    "    num_same = sum(common.values())\n",
    "    if num_same == 0:\n",
    "        return 0\n",
    "    precision = 1.0 * num_same / len(prediction_tokens)\n",
    "    recall = 1.0 * num_same / len(target_tokens)\n",
    "    f1 = (2 * precision * recall) / (precision + recall)\n",
    "    return f1\n",
    "\n",
    "def qa_metrics(targets, predictions):\n",
    "    \"\"\"Computes exact match and f1 QA scores, expecting pre-normalized text.\"\"\"\n",
    "    if len(targets) != len(predictions):\n",
    "        raise ValueError(\"Number of targets and predictions must match.\")\n",
    "    em = np.mean([\n",
    "        _metric_max_over_ground_truths(_exact_match_score, t, p)\n",
    "        for p, t in zip(predictions, targets)\n",
    "    ])\n",
    "    f1 = np.mean([\n",
    "        _metric_max_over_ground_truths(_f1_score, t, p)\n",
    "        for p, t in zip(predictions, targets)\n",
    "    ])\n",
    "    em *= 100\n",
    "    f1 *= 100\n",
    "    logging.info(\"EM = %.2f, F1 = %.2f\", em, f1)\n",
    "    return {\"em\": em, \"f1\": f1}"
   ]
  },
  {
   "cell_type": "code",
   "execution_count": 10,
   "id": "3658422a",
   "metadata": {},
   "outputs": [
    {
     "name": "stderr",
     "output_type": "stream",
     "text": [
      "INFO:absl:EM = 63.60, F1 = 78.93\n"
     ]
    },
    {
     "data": {
      "text/plain": [
       "{'em': 63.6, 'f1': 78.92817904317904}"
      ]
     },
     "execution_count": 10,
     "metadata": {},
     "output_type": "execute_result"
    }
   ],
   "source": [
    "qa_metrics(ans, predictions)"
   ]
  },
  {
   "cell_type": "code",
   "execution_count": null,
   "id": "fe311597",
   "metadata": {},
   "outputs": [],
   "source": []
  }
 ],
 "metadata": {
  "kernelspec": {
   "display_name": "Python 3",
   "language": "python",
   "name": "python3"
  },
  "language_info": {
   "codemirror_mode": {
    "name": "ipython",
    "version": 3
   },
   "file_extension": ".py",
   "mimetype": "text/x-python",
   "name": "python",
   "nbconvert_exporter": "python",
   "pygments_lexer": "ipython3",
   "version": "3.8.8"
  }
 },
 "nbformat": 4,
 "nbformat_minor": 5
}
